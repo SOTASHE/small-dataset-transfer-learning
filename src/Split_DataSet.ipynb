{
 "cells": [
  {
   "cell_type": "markdown",
   "metadata": {},
   "source": [
    "Split Folders package\n",
    "\n",
    "Split folders with files (e.g. images) into train, validation and test (dataset) folders.\n",
    "\n",
    "The input folder shoud have the following format:\n",
    "\n",
    "input/\n",
    "    class1/\n",
    "        img1.jpg\n",
    "        img2.jpg\n",
    "        ...\n",
    "    class2/\n",
    "        imgWhatever.jpg\n",
    "        ...\n",
    "    ...\n",
    "In order to give you this:\n",
    "\n",
    "output/\n",
    "    train/\n",
    "        class1/\n",
    "            img1.jpg\n",
    "            ...\n",
    "        class2/\n",
    "            imga.jpg\n",
    "            ...\n",
    "    val/\n",
    "        class1/\n",
    "            img2.jpg\n",
    "            ...\n",
    "        class2/\n",
    "            imgb.jpg\n",
    "            ...\n",
    "    test/\n",
    "        class1/\n",
    "            img3.jpg\n",
    "            ...\n",
    "        class2/\n",
    "            imgc.jpg\n",
    "            ...\n",
    "This should get you started to do some serious deep learning on your data. Read here why it's a good idea to split your data intro three different sets.\n",
    "\n",
    "You may only split into a training and validation set.\n",
    "The data gets split before it gets shuffled.\n",
    "A seed lets you reproduce the splits.\n",
    "Works on any file types.\n",
    "Allows randomized oversampling for imbalanced datasets.\n",
    "(Should) work on all operating systems."
   ]
  },
  {
   "cell_type": "markdown",
   "metadata": {},
   "source": [
    "Usage\n",
    "\n",
    "You you can use split_folders as Python module or as a Command Line Interface (CLI).\n",
    "\n",
    "If your datasets is balanced (each class has the same number of samples), choose ratio otherwise fixed. NB: oversampling is turned off by default."
   ]
  },
  {
   "cell_type": "code",
   "execution_count": null,
   "metadata": {},
   "outputs": [],
   "source": [
    "import split_folders\n",
    "\n",
    "# Split with a ratio.\n",
    "# To only split into training and validation set, set a tuple to `ratio`, i.e, `(.8, .2)`.\n",
    "split_folders.ratio('input_folder', output=\"output\", seed=1337, ratio=(.8, .1, .1)) # default values\n",
    "\n",
    "# Split val/test with a fixed number of items e.g. 100 for each set.\n",
    "# To only split into training and validation set, use a single number to `fixed`, i.e., `10`.\n",
    "split_folders.fixed('input_folder', output=\"output\", seed=1337, fixed=(100, 100), oversample=False) # default values"
   ]
  },
  {
   "cell_type": "code",
   "execution_count": 4,
   "metadata": {},
   "outputs": [
    {
     "name": "stdout",
     "output_type": "stream",
     "text": [
      "DataSet split into train/validation/test started\n",
      "DataSet split into train/validation/test completed!\n"
     ]
    }
   ],
   "source": [
    "import split_folders\n",
    "\n",
    "input_folder  = \"D:/Projects/UCMerced_LandUse/Images\"\n",
    "output_folder = \"D:/Projects/UCMerced_LandUse_split/Images\"\n",
    "\n",
    "print(\"DataSet split into train/validation/test started\")\n",
    "split_folders.ratio(input_folder, output_folder, seed=1337, ratio=(.8, .1, .1))\n",
    "print(\"DataSet split into train/validation/test completed!\")"
   ]
  }
 ],
 "metadata": {
  "kernelspec": {
   "display_name": "Python 3",
   "language": "python",
   "name": "python3"
  },
  "language_info": {
   "codemirror_mode": {
    "name": "ipython",
    "version": 3
   },
   "file_extension": ".py",
   "mimetype": "text/x-python",
   "name": "python",
   "nbconvert_exporter": "python",
   "pygments_lexer": "ipython3",
   "version": "3.6.8"
  }
 },
 "nbformat": 4,
 "nbformat_minor": 2
}
